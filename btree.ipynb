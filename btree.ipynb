{
 "cells": [
  {
   "cell_type": "code",
   "execution_count": 118,
   "metadata": {},
   "outputs": [],
   "source": [
    "from pprint import pprint\n",
    "\n",
    "class Btree:\n",
    "    def __init__(self, b=3):\n",
    "        self.tree = {}\n",
    "        self.h = 0\n",
    "        self.b = b\n",
    "        \n",
    "    def add_level(self, level=-1):\n",
    "        if level==-1:\n",
    "            self.tree[self.h] = {}\n",
    "            self.h += 1\n",
    "            print('New level')\n",
    "        else:\n",
    "            self.tree[level] = {}\n",
    "            self.h += 1\n",
    "            print('New level')\n",
    "    \n",
    "    def add_node_to_level(self, level, index=-1, node=[[],[]]):\n",
    "        if index==-1:\n",
    "            self.tree[level][len(bt.tree[level])] = node\n",
    "        else:\n",
    "            self.tree[level][index] = node\n",
    "            \n",
    "    \n",
    "    def show(self):\n",
    "        pprint(self.tree)\n",
    "    \n",
    "    def append(self, key, value):\n",
    "        for level in range(self.h):\n",
    "            if self.tree[level] == {}:\n",
    "                self.add_node_to_level(level)\n",
    "                self.tree[level][0][0].append(value)\n",
    "                self.tree[level][0][1].append(key)\n",
    "                return\n",
    "            else:\n",
    "                return\n",
    "            \n",
    "#     def search(self, value):\n",
    "#         level = 0\n",
    "#         index = 0\n",
    "#         return tree_search(value, level, index)\n",
    "    \n",
    "    def search(self, value, level=0, index=0, pos=0):\n",
    "        print(f'Searching at {level, index, pos}')\n",
    "        if self.h == 0:\n",
    "            self.add_level()\n",
    "            self.add_node_to_level(level)\n",
    "        \n",
    "        if level == self.h-1:\n",
    "            return level, index\n",
    "            \n",
    "\n",
    "        if value < self.tree[level][index][0][pos]:\n",
    "            print('left')\n",
    "            return self.search(value, level+1, self.tree[level][index][1][pos])\n",
    "        elif pos < len(self.tree[level][index][0])-1:\n",
    "            print('next')\n",
    "            return self.search(value, level, index, pos+1)\n",
    "        else:\n",
    "            print('right')\n",
    "            return self.search(value, level+1, self.tree[level][index][1][pos+1])\n",
    "            \n",
    "            \n",
    "    def add_to_bucket(self, value, key, level, index, key2=None):\n",
    "#         print(len(self.tree[level][index][0]))\n",
    "        for ind, val in enumerate(self.tree[level][index][0]):\n",
    "            if value<val:\n",
    "                self.tree[level][index][0].insert(ind, value)\n",
    "                self.tree[level][index][1].insert(ind, key)\n",
    "                if key2 is not None:\n",
    "                    self.tree[level][index][1].insert(ind+1, key2)\n",
    "\n",
    "                return\n",
    "        \n",
    "        self.tree[level][index][0].append(value)\n",
    "        self.tree[level][index][1].append(key)\n",
    "        if key2 is not None:\n",
    "            self.tree[level][index][1].append(key2)\n",
    "        \n",
    "        \n",
    "    def split_node(self, level, index):\n",
    "        if level == self.h-1:\n",
    "            leaf = True\n",
    "        else:\n",
    "            leaf = False\n",
    "            \n",
    "        print('leaf', leaf)\n",
    "        \n",
    "        new_pointer = self.tree[level][index][0][len(self.tree[level][index][0])//2]\n",
    "            \n",
    "        if leaf:\n",
    "            left = [el[:len(el)//2] for el in self.tree[level][index]]\n",
    "            right = [el[len(el)//2:] for el in self.tree[level][index]]\n",
    "        else:\n",
    "            left = [el[:len(el)//2] for el in self.tree[level][index]]\n",
    "            right_values = self.tree[level][index][0][len(self.tree[level][index][0])//2+1:]\n",
    "            right_keys   = self.tree[level][index][1][len(self.tree[level][index][1])//2:]\n",
    "            right = [right_values, right_keys]\n",
    "#         print(left, right)\n",
    "        #make way if needed\n",
    "        self.tree[level] = {(key+1 if key>index else key):val for key, val in self.tree[level].items()}\n",
    "        self.add_node_to_level(level, index, left)\n",
    "        self.add_node_to_level(level, index+1, right)\n",
    "        \n",
    "        self.add_to_parent(new_pointer, index, level)\n",
    "        \n",
    "\n",
    "    def add_to_parent(self, new_pointer, index, level):\n",
    "        if level == 0:\n",
    "            self.tree = {key+1:val for key, val in self.tree.items()}\n",
    "\n",
    "            self.add_level(0)\n",
    "\n",
    "            self.add_node_to_level(0,0,[[],[]])\n",
    "            self.add_to_bucket(new_pointer, index, level, 0, index+1)\n",
    "        else:\n",
    "            parent = self.find_parent(index, level-1)\n",
    "            print(f'{new_pointer} parent is {parent, level-1}')\n",
    "            self.add_to_bucket(new_pointer, index+1, level-1, parent)\n",
    "        \n",
    "            print('parent', len(self.tree[level-1][parent]))\n",
    "            if len(self.tree[level-1][parent][0])==self.b:\n",
    "                self.split_node(level-1, parent)\n",
    "        \n",
    "\n",
    "    def find_parent(self, v, level):\n",
    "        for key, value in bt.tree[level].items():\n",
    "            if v in value[1]:\n",
    "                return key\n",
    "            \n",
    "    \n",
    "    def aappend(self, value, key):\n",
    "        (level, index) = self.search(value)\n",
    "        \n",
    "        self.add_to_bucket(value, key, level, index)\n",
    "        \n",
    "        if len(self.tree[level][index][0])==self.b:\n",
    "            print('overflow')\n",
    "            self.split_node(level, index)\n",
    "            \n",
    "            \n",
    "            \n",
    "            \n",
    "    \n",
    "        \n",
    "        \n",
    "    \n",
    "    \n",
    "        \n",
    "        \n",
    "#         ind = 0\n",
    "#         for level in range(self.h):\n",
    "#             if level != self.h+1:\n",
    "#                 for index, val in enumerate(self.tree[level][index][0]):\n",
    "#                     if value<val:\n",
    "#                         ind = self.tree[level][index][1]\n",
    "#                     else:\n",
    "#                         if \n",
    "                \n",
    "        "
   ]
  },
  {
   "cell_type": "code",
   "execution_count": 119,
   "metadata": {},
   "outputs": [],
   "source": [
    "bt = Btree()"
   ]
  },
  {
   "cell_type": "code",
   "execution_count": 126,
   "metadata": {},
   "outputs": [
    {
     "name": "stdout",
     "output_type": "stream",
     "text": [
      "Searching at (0, 0, 0)\n",
      "right\n",
      "Searching at (1, 1, 0)\n",
      "left\n",
      "Searching at (2, 2, 0)\n",
      "{0: {0: [[6], [0, 1]]},\n",
      " 1: {0: [[2], [0, 1]], 1: [[7], [2, 3]]},\n",
      " 2: {0: [[1], [2]],\n",
      "     1: [[2, 5], [0, 4]],\n",
      "     2: [[6, 6], [1, 6]],\n",
      "     3: [[7, 9], [3, 5]]}}\n"
     ]
    }
   ],
   "source": [
    "bt.aappend(6, 6)\n",
    "bt.show()"
   ]
  },
  {
   "cell_type": "code",
   "execution_count": null,
   "metadata": {},
   "outputs": [],
   "source": []
  },
  {
   "cell_type": "code",
   "execution_count": null,
   "metadata": {},
   "outputs": [],
   "source": []
  },
  {
   "cell_type": "code",
   "execution_count": 116,
   "metadata": {},
   "outputs": [
    {
     "name": "stdout",
     "output_type": "stream",
     "text": [
      "2\n",
      "Searching at (0, 0, 0)\n",
      "New level\n",
      "{0: {0: [[2], [0]]}}\n",
      "4\n",
      "Searching at (0, 0, 0)\n",
      "{0: {0: [[2, 4], [0, 1]]}}\n",
      "6\n",
      "Searching at (0, 0, 0)\n",
      "overflow\n",
      "leaf True\n",
      "New level\n",
      "{0: {0: [[4], [0, 1]]}, 1: {0: [[2], [0]], 1: [[4, 6], [1, 2]]}}\n",
      "8\n",
      "Searching at (0, 0, 0)\n",
      "right\n",
      "Searching at (1, 1, 0)\n",
      "overflow\n",
      "leaf True\n",
      "6 parent is (0, 0)\n",
      "parent 2\n",
      "{0: {0: [[4, 6], [0, 1, 2]]},\n",
      " 1: {0: [[2], [0]], 1: [[4], [1]], 2: [[6, 8], [2, 3]]}}\n",
      "5\n",
      "Searching at (0, 0, 0)\n",
      "next\n",
      "Searching at (0, 0, 1)\n",
      "left\n",
      "Searching at (1, 1, 0)\n",
      "{0: {0: [[4, 6], [0, 1, 2]]},\n",
      " 1: {0: [[2], [0]], 1: [[4, 5], [1, 4]], 2: [[6, 8], [2, 3]]}}\n",
      "7\n",
      "Searching at (0, 0, 0)\n",
      "next\n",
      "Searching at (0, 0, 1)\n",
      "right\n",
      "Searching at (1, 2, 0)\n",
      "overflow\n",
      "leaf True\n",
      "7 parent is (0, 0)\n",
      "parent 2\n",
      "leaf False\n",
      "New level\n",
      "{0: {0: [[6], [0, 1]]},\n",
      " 1: {0: [[4], [0, 1]], 1: [[7], [2, 3]]},\n",
      " 2: {0: [[2], [0]], 1: [[4, 5], [1, 4]], 2: [[6], [2]], 3: [[7, 8], [5, 3]]}}\n"
     ]
    }
   ],
   "source": [
    "bt = Btree()\n",
    "print('2')\n",
    "bt.aappend(2, 0)\n",
    "bt.show()\n",
    "print('4')\n",
    "bt.aappend(4, 1)\n",
    "bt.show()\n",
    "print('6')\n",
    "bt.aappend(6, 2)\n",
    "bt.show()\n",
    "print('8')\n",
    "bt.aappend(8, 3)\n",
    "bt.show()\n",
    "print('5')\n",
    "bt.aappend(5, 4)\n",
    "bt.show()\n",
    "print('7')\n",
    "bt.aappend(7, 5)\n",
    "bt.show()\n"
   ]
  },
  {
   "cell_type": "code",
   "execution_count": 112,
   "metadata": {},
   "outputs": [
    {
     "name": "stdout",
     "output_type": "stream",
     "text": [
      "Searching at (0, 0, 0)\n",
      "left\n",
      "Searching at (1, 0, 0)\n",
      "right\n",
      "Searching at (2, 1, 0)\n",
      "overflow\n",
      "leaf True\n",
      "4 parent is (0, 1)\n",
      "parent 2\n"
     ]
    }
   ],
   "source": [
    "bt.aappend(4, 12)\n",
    "# bt.show()"
   ]
  },
  {
   "cell_type": "code",
   "execution_count": null,
   "metadata": {},
   "outputs": [],
   "source": []
  },
  {
   "cell_type": "code",
   "execution_count": 117,
   "metadata": {},
   "outputs": [
    {
     "name": "stdout",
     "output_type": "stream",
     "text": [
      "{0: {0: [[6], [0, 1]]},\n",
      " 1: {0: [[4], [0, 1]], 1: [[7], [2, 3]]},\n",
      " 2: {0: [[2], [0]], 1: [[4, 5], [1, 4]], 2: [[6], [2]], 3: [[7, 8], [5, 3]]}}\n"
     ]
    }
   ],
   "source": [
    "bt.show()"
   ]
  },
  {
   "cell_type": "code",
   "execution_count": 61,
   "metadata": {},
   "outputs": [
    {
     "name": "stdout",
     "output_type": "stream",
     "text": [
      "Searching at (0, 0, 0)\n",
      "right\n",
      "Searching at (1, 1, 0)\n",
      "overflow\n",
      "leaf True\n"
     ]
    }
   ],
   "source": [
    "bt.aappend(7, 2)"
   ]
  },
  {
   "cell_type": "code",
   "execution_count": 76,
   "metadata": {},
   "outputs": [
    {
     "data": {
      "text/plain": [
       "[[0], [1], [4, 5], [2, 3]]"
      ]
     },
     "execution_count": 76,
     "metadata": {},
     "output_type": "execute_result"
    }
   ],
   "source": [
    "[bt.tree[1][l][1] for l in range(len(bt.tree[1]))]"
   ]
  },
  {
   "cell_type": "code",
   "execution_count": 78,
   "metadata": {},
   "outputs": [
    {
     "data": {
      "text/plain": [
       "{0: [[2], [0]], 1: [[4], [1]], 3: [[6, 8], [2, 3]], 2: [[5, 7], [4, 5]]}"
      ]
     },
     "execution_count": 78,
     "metadata": {},
     "output_type": "execute_result"
    }
   ],
   "source": [
    "bt.tree[1]"
   ]
  },
  {
   "cell_type": "code",
   "execution_count": 81,
   "metadata": {},
   "outputs": [
    {
     "name": "stdout",
     "output_type": "stream",
     "text": [
      "2\n"
     ]
    }
   ],
   "source": [
    "v = 4\n",
    "for key, value in bt.tree[1].items():\n",
    "    if v in value[1]:\n",
    "        print(key)"
   ]
  },
  {
   "cell_type": "code",
   "execution_count": 2,
   "metadata": {},
   "outputs": [
    {
     "name": "stdout",
     "output_type": "stream",
     "text": [
      "New level\n",
      "{0: {0: [[6], [4]]}}\n"
     ]
    }
   ],
   "source": [
    "bt = Btree()\n",
    "bt.add_level()\n",
    "# bt.add_node_to_level(0)\n",
    "bt.append(4,6)\n",
    "bt.show()"
   ]
  },
  {
   "cell_type": "code",
   "execution_count": 3,
   "metadata": {},
   "outputs": [
    {
     "data": {
      "text/plain": [
       "{0: {0: [[5, 6], [32, 4]]}}"
      ]
     },
     "execution_count": 3,
     "metadata": {},
     "output_type": "execute_result"
    }
   ],
   "source": [
    "bt.aappend(5,32)\n",
    "bt.tree"
   ]
  },
  {
   "cell_type": "code",
   "execution_count": 4,
   "metadata": {},
   "outputs": [
    {
     "data": {
      "text/plain": [
       "{0: {0: [[2, 5, 6], [2, 32, 4]]}}"
      ]
     },
     "execution_count": 4,
     "metadata": {},
     "output_type": "execute_result"
    }
   ],
   "source": [
    "bt.aappend(2,2)\n",
    "bt.tree"
   ]
  },
  {
   "cell_type": "code",
   "execution_count": 5,
   "metadata": {},
   "outputs": [
    {
     "name": "stdout",
     "output_type": "stream",
     "text": [
      "[[2], [2]] [[5, 6], [32, 4]]\n"
     ]
    }
   ],
   "source": [
    "bt.split_node(0,0)"
   ]
  },
  {
   "cell_type": "code",
   "execution_count": 8,
   "metadata": {},
   "outputs": [
    {
     "data": {
      "text/plain": [
       "{0: {0: [[2], [2]], 1: [[5, 6, 8], [32, 4, 12]]}}"
      ]
     },
     "execution_count": 8,
     "metadata": {},
     "output_type": "execute_result"
    }
   ],
   "source": [
    "bt.tree"
   ]
  },
  {
   "cell_type": "code",
   "execution_count": 13,
   "metadata": {},
   "outputs": [],
   "source": [
    "bt.add_to_bucket(3, 42, 0, 0)"
   ]
  },
  {
   "cell_type": "code",
   "execution_count": 15,
   "metadata": {},
   "outputs": [
    {
     "name": "stdout",
     "output_type": "stream",
     "text": [
      "[[1], [52]] [[2, 3], [2, 42]]\n"
     ]
    }
   ],
   "source": [
    "bt.split_node(0,0)"
   ]
  },
  {
   "cell_type": "code",
   "execution_count": 17,
   "metadata": {},
   "outputs": [
    {
     "name": "stdout",
     "output_type": "stream",
     "text": [
      "{0: {0: [[1], [52]],\n",
      "     1: [[2, 3], [2, 42]],\n",
      "     2: [[5], [32]],\n",
      "     3: [[6, 8], [4, 12]]}}\n"
     ]
    }
   ],
   "source": [
    "bt.show()"
   ]
  },
  {
   "cell_type": "code",
   "execution_count": 119,
   "metadata": {},
   "outputs": [
    {
     "name": "stdout",
     "output_type": "stream",
     "text": [
      "New level\n",
      "{0: {0: [[7], [0]]}, 1: {0: [[], []], 1: [[], []]}}\n"
     ]
    }
   ],
   "source": [
    "bt.add_level()\n",
    "bt.add_node_to_level(1)\n",
    "bt.add_node_to_level(1)\n",
    "bt.show()"
   ]
  },
  {
   "cell_type": "code",
   "execution_count": 125,
   "metadata": {},
   "outputs": [],
   "source": [
    "bt.split_node(1,0)"
   ]
  },
  {
   "cell_type": "code",
   "execution_count": 126,
   "metadata": {},
   "outputs": [
    {
     "name": "stdout",
     "output_type": "stream",
     "text": [
      "{0: {0: [[7], [0]]}, 1: {0: [[], []], 2: [[], []]}}\n"
     ]
    }
   ],
   "source": [
    "bt.show()"
   ]
  },
  {
   "cell_type": "code",
   "execution_count": 73,
   "metadata": {},
   "outputs": [
    {
     "name": "stdout",
     "output_type": "stream",
     "text": [
      "New level\n",
      "New level\n",
      "{0: {0: [[], []], 1: [[], []]}, 1: {0: [[], []], 1: [[], []], 2: [[], []]}}\n"
     ]
    }
   ],
   "source": [
    "bt.add_level()\n",
    "bt.add_node_to_level(0)\n",
    "bt.add_node_to_level(0)\n",
    "bt.add_level()\n",
    "bt.add_node_to_level(1)\n",
    "bt.add_node_to_level(1)\n",
    "bt.add_node_to_level(1)\n",
    "bt.show()"
   ]
  },
  {
   "cell_type": "code",
   "execution_count": 67,
   "metadata": {},
   "outputs": [],
   "source": [
    "bt.tree[0][len(bt.tree[0])] = {}"
   ]
  },
  {
   "cell_type": "code",
   "execution_count": 68,
   "metadata": {},
   "outputs": [
    {
     "name": "stdout",
     "output_type": "stream",
     "text": [
      "True\n"
     ]
    }
   ],
   "source": [
    "print(bt.tree[0][0] == [[]])"
   ]
  },
  {
   "cell_type": "code",
   "execution_count": 69,
   "metadata": {},
   "outputs": [
    {
     "data": {
      "text/plain": [
       "[[]]"
      ]
     },
     "execution_count": 69,
     "metadata": {},
     "output_type": "execute_result"
    }
   ],
   "source": [
    "bt.tree[0][0]."
   ]
  },
  {
   "cell_type": "code",
   "execution_count": 29,
   "metadata": {},
   "outputs": [],
   "source": [
    "def test(a=0):\n",
    "    return a"
   ]
  },
  {
   "cell_type": "code",
   "execution_count": 31,
   "metadata": {},
   "outputs": [
    {
     "data": {
      "text/plain": [
       "2"
      ]
     },
     "execution_count": 31,
     "metadata": {},
     "output_type": "execute_result"
    }
   ],
   "source": [
    "test(2)"
   ]
  },
  {
   "cell_type": "code",
   "execution_count": null,
   "metadata": {},
   "outputs": [],
   "source": []
  }
 ],
 "metadata": {
  "kernelspec": {
   "display_name": "Python 3",
   "language": "python",
   "name": "python3"
  },
  "language_info": {
   "codemirror_mode": {
    "name": "ipython",
    "version": 3
   },
   "file_extension": ".py",
   "mimetype": "text/x-python",
   "name": "python",
   "nbconvert_exporter": "python",
   "pygments_lexer": "ipython3",
   "version": "3.7.7"
  }
 },
 "nbformat": 4,
 "nbformat_minor": 4
}
