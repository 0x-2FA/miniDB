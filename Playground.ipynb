{
 "cells": [
  {
   "cell_type": "markdown",
   "metadata": {},
   "source": [
    "TODOs\n",
    "\n",
    "- full attribute list (done)\n",
    "- load/save (done)\n",
    "- detect column types from insert (done)\n",
    "- constrains on rows (all rows shoudl have the same number of elements)\n",
    "- Btree stuff\n",
    "- where"
   ]
  },
  {
   "cell_type": "code",
   "execution_count": 147,
   "metadata": {},
   "outputs": [],
   "source": [
    "from tabulate import tabulate\n",
    "class Table:\n",
    "    '''\n",
    "    Table object represents a table inside a database\n",
    "    \n",
    "    A Table object can be created either by assigning:\n",
    "        - a table name (string)\n",
    "        - column names (list of strings)\n",
    "        - column types (list of functions like str/int etc)\n",
    "    \n",
    "    OR\n",
    "        \n",
    "        - by assigning a value to the variable called load. This value can be:\n",
    "            - a path to a Table file saved using the save function\n",
    "            - a dictionary that includes the appropriate info (all the attributes in __init__)\n",
    "            \n",
    "    '''\n",
    "    def __init__(self, name=None, column_names=None, column_types=None, load=None):\n",
    "        \n",
    "        if load is not None:\n",
    "            if isinstance(load, dict):\n",
    "                self.__dict__.update(_dict)\n",
    "            elif isinstance(load, str):\n",
    "                self._load_from_file(load)\n",
    "            \n",
    "        elif (name is not None) and (column_names is not None) and (column_types is not None):\n",
    "            \n",
    "            self.name = name\n",
    "\n",
    "            if len(column_names)!=len(column_types):\n",
    "                raise ValueError('Need same number of column names and types.')\n",
    "\n",
    "            self.column_names = column_names\n",
    "            self.column_types = column_types\n",
    "            self._no_of_columns = len(column_names)\n",
    "            self.data = []\n",
    "        else:\n",
    "            raise Warning(\"Created table is an empty object. Are you sure you know what you're doing?\")\n",
    "\n",
    "    def insert(self, row):\n",
    "        row = row.split(',')\n",
    "        \n",
    "        if len(row)!=self._no_of_columns:\n",
    "            raise ValueError(f'ERROR -> Cannot insert {len(row)} values. Only {self._no_of_columns} columns exist')\n",
    "            \n",
    "        for i in range(len(row)):\n",
    "            try:\n",
    "                row[i] = self.column_types[i](row[i])\n",
    "            except:\n",
    "                raise ValueError(f'ERROR -> Value {row[i]} is not of type {self.column_types[i]}.')\n",
    "                return\n",
    "        self.data.append(row)\n",
    "\n",
    "    def delete(self, row_no):\n",
    "        self.data.pop(row_no)\n",
    "\n",
    "    def select(self, rows):\n",
    "        if not isinstance(rows, list):\n",
    "            rows = [rows]\n",
    "        return {(key):([self.data[i] for i in rows] if key==\"data\" else value) for key,value in tab.__dict__.items()}\n",
    "\n",
    "\n",
    "    def show(self, no_of_rows=5):\n",
    "        print(f\"# {self.name} #\\n\")\n",
    "        print(tabulate(self.data[:no_of_rows], headers=self.column_names))\n",
    "\n",
    "    def save(self, filename):\n",
    "        if filename.split('.')[-1] != 'pkl':\n",
    "            raise ValueError(f'ERROR -> Savefile needs .pkl extention')\n",
    "            \n",
    "        with open(filename, 'wb') as f:\n",
    "            pickle.dump(self.__dict__, f)\n",
    "\n",
    "    def _load_from_file(self, filename):\n",
    "        f = open(filename, 'rb')\n",
    "        tmp_dict = cPickle.load(f)\n",
    "        f.close()\n",
    "\n",
    "        self.__dict__.update(tmp_dict)\n",
    "        \n",
    "        "
   ]
  },
  {
   "cell_type": "code",
   "execution_count": 146,
   "metadata": {},
   "outputs": [],
   "source": [
    "tab = Table(\"test\", ['Name', 'Age', 'Sex'], [str, int, str])"
   ]
  },
  {
   "cell_type": "code",
   "execution_count": 130,
   "metadata": {},
   "outputs": [],
   "source": [
    "tab.insert('John,23,Male')\n",
    "tab.insert('George,22,Male')\n"
   ]
  },
  {
   "cell_type": "code",
   "execution_count": 142,
   "metadata": {},
   "outputs": [],
   "source": [
    "tab2 = Table(_dict=ddi)"
   ]
  },
  {
   "cell_type": "code",
   "execution_count": 144,
   "metadata": {},
   "outputs": [
    {
     "data": {
      "text/plain": [
       "{'name': 'theo',\n",
       " 'column_names': ['Name', 'Age', 'Sex'],\n",
       " 'column_types': [str, int, str],\n",
       " '_no_of_columns': 3,\n",
       " 'data': [['John', 23, 'Male'], ['John', 23, 'Male']]}"
      ]
     },
     "execution_count": 144,
     "metadata": {},
     "output_type": "execute_result"
    }
   ],
   "source": [
    "tab2.__dict__"
   ]
  },
  {
   "cell_type": "code",
   "execution_count": 132,
   "metadata": {},
   "outputs": [
    {
     "ename": "AttributeError",
     "evalue": "'dict' object has no attribute 'show'",
     "output_type": "error",
     "traceback": [
      "\u001b[0;31m---------------------------------------------------------------------------\u001b[0m",
      "\u001b[0;31mAttributeError\u001b[0m                            Traceback (most recent call last)",
      "\u001b[0;32m<ipython-input-132-2cfe72735ced>\u001b[0m in \u001b[0;36m<module>\u001b[0;34m\u001b[0m\n\u001b[0;32m----> 1\u001b[0;31m \u001b[0mtab\u001b[0m\u001b[0;34m.\u001b[0m\u001b[0mselect\u001b[0m\u001b[0;34m(\u001b[0m\u001b[0;34m[\u001b[0m\u001b[0;36m0\u001b[0m\u001b[0;34m,\u001b[0m\u001b[0;36m1\u001b[0m\u001b[0;34m]\u001b[0m\u001b[0;34m)\u001b[0m\u001b[0;34m.\u001b[0m\u001b[0mshow\u001b[0m\u001b[0;34m(\u001b[0m\u001b[0;34m)\u001b[0m\u001b[0;34m\u001b[0m\u001b[0;34m\u001b[0m\u001b[0m\n\u001b[0m",
      "\u001b[0;31mAttributeError\u001b[0m: 'dict' object has no attribute 'show'"
     ]
    }
   ],
   "source": [
    "tab.select([0,1]).show()"
   ]
  },
  {
   "cell_type": "code",
   "execution_count": 121,
   "metadata": {},
   "outputs": [
    {
     "data": {
      "text/plain": [
       "dict_values(['testy', ['Name', 'Age', 'Sex'], [<class 'str'>, <class 'int'>, <class 'str'>], 3, [['John', 23, 'Male'], ['John', 23, 'Male']]])"
      ]
     },
     "execution_count": 121,
     "metadata": {},
     "output_type": "execute_result"
    }
   ],
   "source": [
    "tab.__dict__.values()"
   ]
  },
  {
   "cell_type": "code",
   "execution_count": 125,
   "metadata": {},
   "outputs": [
    {
     "data": {
      "text/plain": [
       "{'name': 'theo',\n",
       " 'column_names': ['Name', 'Age', 'Sex'],\n",
       " 'column_types': [str, int, str],\n",
       " '_no_of_columns': 3,\n",
       " 'data': [['John', 23, 'Male'], ['John', 23, 'Male']]}"
      ]
     },
     "execution_count": 125,
     "metadata": {},
     "output_type": "execute_result"
    }
   ],
   "source": [
    "{(key):(\"theo\" if key==\"data\" else value) for key,value in tab.__dict__.items()}"
   ]
  },
  {
   "cell_type": "code",
   "execution_count": 140,
   "metadata": {},
   "outputs": [],
   "source": [
    "ddi = {'name': 'theo',\n",
    " 'column_names': ['Name', 'Age', 'Sex'],\n",
    " 'column_types': [str, int, str],\n",
    " '_no_of_columns': 3,\n",
    " 'data': [['John', 23, 'Male'], ['John', 23, 'Male']]}"
   ]
  },
  {
   "cell_type": "code",
   "execution_count": 110,
   "metadata": {},
   "outputs": [],
   "source": [
    "tab2 = tab.select([0,1])"
   ]
  },
  {
   "cell_type": "code",
   "execution_count": 111,
   "metadata": {},
   "outputs": [
    {
     "ename": "AttributeError",
     "evalue": "'NoneType' object has no attribute 'show'",
     "output_type": "error",
     "traceback": [
      "\u001b[0;31m---------------------------------------------------------------------------\u001b[0m",
      "\u001b[0;31mAttributeError\u001b[0m                            Traceback (most recent call last)",
      "\u001b[0;32m<ipython-input-111-61e1777aa164>\u001b[0m in \u001b[0;36m<module>\u001b[0;34m\u001b[0m\n\u001b[0;32m----> 1\u001b[0;31m \u001b[0mtab2\u001b[0m\u001b[0;34m.\u001b[0m\u001b[0mshow\u001b[0m\u001b[0;34m(\u001b[0m\u001b[0;34m)\u001b[0m\u001b[0;34m\u001b[0m\u001b[0;34m\u001b[0m\u001b[0m\n\u001b[0m",
      "\u001b[0;31mAttributeError\u001b[0m: 'NoneType' object has no attribute 'show'"
     ]
    }
   ],
   "source": [
    "{ (some_key if condition else default_key):(something_if_true if condition\n",
    "          else something_if_false) for key, value in dict_.items() }"
   ]
  },
  {
   "cell_type": "code",
   "execution_count": 253,
   "metadata": {},
   "outputs": [],
   "source": [
    "tab2 = Table()\n",
    "tab2.load('test2.pkl')"
   ]
  },
  {
   "cell_type": "code",
   "execution_count": 257,
   "metadata": {},
   "outputs": [
    {
     "name": "stdout",
     "output_type": "stream",
     "text": [
      "0         1  2\n",
      "------  ---  ----\n",
      "John     23  Male\n",
      "George   13  Male\n"
     ]
    }
   ],
   "source": [
    "\n",
    "tab2.show()"
   ]
  },
  {
   "cell_type": "code",
   "execution_count": 264,
   "metadata": {},
   "outputs": [],
   "source": [
    "tab.set_column_names(['Name', 'Age', 'Gender'])"
   ]
  },
  {
   "cell_type": "code",
   "execution_count": 54,
   "metadata": {},
   "outputs": [
    {
     "data": {
      "text/plain": [
       "<function tabulate.tabulate(tabular_data, headers=(), tablefmt='simple', floatfmt='g', numalign='decimal', stralign='left', missingval='', showindex='default', disable_numparse=False, colalign=None)>"
      ]
     },
     "execution_count": 54,
     "metadata": {},
     "output_type": "execute_result"
    }
   ],
   "source": [
    "tabulate()"
   ]
  },
  {
   "cell_type": "code",
   "execution_count": null,
   "metadata": {},
   "outputs": [],
   "source": []
  }
 ],
 "metadata": {
  "kernelspec": {
   "display_name": "Python 3",
   "language": "python",
   "name": "python3"
  },
  "language_info": {
   "codemirror_mode": {
    "name": "ipython",
    "version": 3
   },
   "file_extension": ".py",
   "mimetype": "text/x-python",
   "name": "python",
   "nbconvert_exporter": "python",
   "pygments_lexer": "ipython3",
   "version": "3.8.2"
  }
 },
 "nbformat": 4,
 "nbformat_minor": 4
}
