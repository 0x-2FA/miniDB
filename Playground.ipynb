{
 "cells": [
  {
   "cell_type": "markdown",
   "metadata": {},
   "source": [
    "TODOs\n",
    "\n",
    "- full attribute list (done)\n",
    "- load/save (done)\n",
    "- detect column types from insert (done)\n",
    "- constrains on rows (all rows shoudl have the same number of elements)\n",
    "- Btree stuff\n",
    "- where"
   ]
  },
  {
   "cell_type": "code",
   "execution_count": 165,
   "metadata": {},
   "outputs": [
    {
     "name": "stdout",
     "output_type": "stream",
     "text": [
      "\u001b[31mERROR: Could not find a version that satisfies the requirement cPickle (from versions: none)\u001b[0m\r\n",
      "\u001b[31mERROR: No matching distribution found for cPickle\u001b[0m\r\n"
     ]
    }
   ],
   "source": [
    "!pip3 install cPickle"
   ]
  },
  {
   "cell_type": "code",
   "execution_count": 166,
   "metadata": {},
   "outputs": [],
   "source": [
    "import pickle\n",
    "import _pickle as cPickle"
   ]
  },
  {
   "cell_type": "code",
   "execution_count": 12,
   "metadata": {},
   "outputs": [],
   "source": [
    "cols = ['Name','Age','Gender']\n",
    "coltypes = [str, int, str]"
   ]
  },
  {
   "cell_type": "code",
   "execution_count": 16,
   "metadata": {},
   "outputs": [
    {
     "data": {
      "text/plain": [
       "'2'"
      ]
     },
     "execution_count": 16,
     "metadata": {},
     "output_type": "execute_result"
    }
   ],
   "source": [
    "coltypes[0](2)"
   ]
  },
  {
   "cell_type": "code",
   "execution_count": 6,
   "metadata": {},
   "outputs": [
    {
     "ename": "TypeError",
     "evalue": "'dict_keys' object is not subscriptable",
     "output_type": "error",
     "traceback": [
      "\u001b[0;31m------------------------------------------------------------------\u001b[0m",
      "\u001b[0;31mTypeError\u001b[0m                        Traceback (most recent call last)",
      "\u001b[0;32m<ipython-input-6-db7b78b34f59>\u001b[0m in \u001b[0;36m<module>\u001b[0;34m\u001b[0m\n\u001b[0;32m----> 1\u001b[0;31m \u001b[0mcols\u001b[0m\u001b[0;34m.\u001b[0m\u001b[0mkeys\u001b[0m\u001b[0;34m(\u001b[0m\u001b[0;34m)\u001b[0m\u001b[0;34m[\u001b[0m\u001b[0;36m0\u001b[0m\u001b[0;34m]\u001b[0m\u001b[0;34m\u001b[0m\u001b[0;34m\u001b[0m\u001b[0m\n\u001b[0m",
      "\u001b[0;31mTypeError\u001b[0m: 'dict_keys' object is not subscriptable"
     ]
    }
   ],
   "source": [
    "cols.keys()[0]"
   ]
  },
  {
   "cell_type": "code",
   "execution_count": 216,
   "metadata": {},
   "outputs": [],
   "source": [
    "class Tableold:\n",
    "    def __init__(self, cols, coltypes):\n",
    "        self.data = []\n",
    "        self.cols = cols\n",
    "        self.coltypes = coltypes\n",
    "        self.no_cols = len(cols)\n",
    "        self.columns = [[row[i] for row in lst ]for i in range(self.no_cols)]\n",
    "#         self.rows = \n",
    "        self.size = len(self.data)\n",
    "    \n",
    "    def insert(self, row):\n",
    "        row = row.split(',')\n",
    "        for i in range(len(row)):\n",
    "            try:\n",
    "                row[i] = coltypes[i](row[i])\n",
    "            except:\n",
    "                print('nope')\n",
    "                return\n",
    "        self.data.append(row)\n",
    "    \n",
    "    def delete(self, row_no):\n",
    "        self.data.pop(row_no)\n",
    "    \n",
    "    def select(self, rows):\n",
    "        if not isinstance(rows, list):\n",
    "            rows = [rows]\n",
    "        print(tabulate([tab.data[i] for i in rows], headers=self.cols))\n",
    "    \n",
    "    def show(self):\n",
    "        print(tabulate(self.data, headers=self.cols))\n",
    "        \n",
    "    def save(self, filename):\n",
    "        with open(f'{filename}.pkl', 'wb') as f:\n",
    "            pickle.dump(self.__dict__, f)\n",
    "            \n",
    "    def load(self, filename):\n",
    "        f = open(filename, 'rb')\n",
    "        tmp_dict = cPickle.load(f)\n",
    "        f.close()          \n",
    "\n",
    "        self.__dict__.update(tmp_dict)\n",
    "        "
   ]
  },
  {
   "cell_type": "code",
   "execution_count": 259,
   "metadata": {},
   "outputs": [],
   "source": [
    "class Table:\n",
    "    def __init__(self):\n",
    "        self.data = []\n",
    "        self.colnames = []\n",
    "        self.coltypes = []\n",
    "        self.no_cols = len(self.colnames)\n",
    "        self.columns = [[row[i] for row in lst ]for i in range(self.no_cols)]\n",
    "#         self.rows = \n",
    "        self.size = len(self.data)\n",
    "    \n",
    "    def set_column_names(self, colnames):\n",
    "        self.colnames = colnames\n",
    "    \n",
    "    def set_column_types(self, coltypes):\n",
    "        self.coltypes = coltypes\n",
    "    \n",
    "    def insert(self, row):\n",
    "        row = row.split(',')\n",
    "        if self.no_cols != 0:\n",
    "            # if insert without col info add all data as text with no column names\n",
    "            for i in range(len(row)):\n",
    "                try:\n",
    "                    row[i] = self.coltypes[i](row[i])\n",
    "                except:\n",
    "                    print('nope')\n",
    "                    return\n",
    "        else:\n",
    "            self.colnames = list(range(len(row)))\n",
    "            self.coltypes = [str for _ in range(len(row))]\n",
    "        self.data.append(row)\n",
    "    \n",
    "    def delete(self, row_no):\n",
    "        self.data.pop(row_no)\n",
    "    \n",
    "    def select(self, rows):\n",
    "        if not isinstance(rows, list):\n",
    "            rows = [rows]\n",
    "        print(tabulate([tab.data[i] for i in rows], headers=self.colnames))\n",
    "    \n",
    "    def show(self):\n",
    "        print(tabulate(self.data, headers=self.colnames))\n",
    "        \n",
    "    def save(self, filename):\n",
    "        with open(f'{filename}.pkl', 'wb') as f:\n",
    "            pickle.dump(self.__dict__, f)\n",
    "            \n",
    "    def load(self, filename):\n",
    "        f = open(filename, 'rb')\n",
    "        tmp_dict = cPickle.load(f)\n",
    "        f.close()          \n",
    "\n",
    "        self.__dict__.update(tmp_dict)\n",
    "        "
   ]
  },
  {
   "cell_type": "code",
   "execution_count": 260,
   "metadata": {},
   "outputs": [],
   "source": [
    "tab = Table()"
   ]
  },
  {
   "cell_type": "code",
   "execution_count": 261,
   "metadata": {},
   "outputs": [],
   "source": [
    "tab.insert('John,23,Male')\n",
    "tab.insert('George,13,Male')\n"
   ]
  },
  {
   "cell_type": "code",
   "execution_count": 262,
   "metadata": {},
   "outputs": [
    {
     "data": {
      "text/plain": [
       "{'data': [['John', '23', 'Male'], ['George', '13', 'Male']],\n",
       " 'colnames': [0, 1, 2],\n",
       " 'coltypes': [str, str, str],\n",
       " 'no_cols': 0,\n",
       " 'columns': [],\n",
       " 'size': 0}"
      ]
     },
     "execution_count": 262,
     "metadata": {},
     "output_type": "execute_result"
    }
   ],
   "source": [
    "tab.__dict__"
   ]
  },
  {
   "cell_type": "code",
   "execution_count": 252,
   "metadata": {},
   "outputs": [],
   "source": [
    "tab.save('test2')"
   ]
  },
  {
   "cell_type": "code",
   "execution_count": null,
   "metadata": {},
   "outputs": [],
   "source": []
  },
  {
   "cell_type": "code",
   "execution_count": 253,
   "metadata": {},
   "outputs": [],
   "source": [
    "tab2 = Table()\n",
    "tab2.load('test2.pkl')"
   ]
  },
  {
   "cell_type": "code",
   "execution_count": 257,
   "metadata": {},
   "outputs": [
    {
     "name": "stdout",
     "output_type": "stream",
     "text": [
      "0         1  2\n",
      "------  ---  ----\n",
      "John     23  Male\n",
      "George   13  Male\n"
     ]
    }
   ],
   "source": [
    "\n",
    "tab2.show()"
   ]
  },
  {
   "cell_type": "code",
   "execution_count": 264,
   "metadata": {},
   "outputs": [],
   "source": [
    "tab.set_column_names(['Name', 'Age', 'Gender'])"
   ]
  },
  {
   "cell_type": "code",
   "execution_count": 265,
   "metadata": {},
   "outputs": [
    {
     "name": "stdout",
     "output_type": "stream",
     "text": [
      "Name      Age  Gender\n",
      "------  -----  --------\n",
      "John       23  Male\n",
      "George     13  Male\n"
     ]
    }
   ],
   "source": [
    "tab.show()"
   ]
  },
  {
   "cell_type": "code",
   "execution_count": 146,
   "metadata": {},
   "outputs": [],
   "source": [
    "tab.delete(0)"
   ]
  },
  {
   "cell_type": "code",
   "execution_count": 97,
   "metadata": {},
   "outputs": [
    {
     "data": {
      "text/plain": [
       "[['John', 23, 'Male']]"
      ]
     },
     "execution_count": 97,
     "metadata": {},
     "output_type": "execute_result"
    }
   ],
   "source": [
    "[tab.data[i] for i in [1]]"
   ]
  },
  {
   "cell_type": "code",
   "execution_count": 26,
   "metadata": {},
   "outputs": [],
   "source": [
    "for row in zip(*tab.data):\n",
    "    print ('{:<10}{:>7}    {:<10}'.format(*row))\n"
   ]
  },
  {
   "cell_type": "code",
   "execution_count": 91,
   "metadata": {},
   "outputs": [
    {
     "ename": "TypeError",
     "evalue": "list indices must be integers or slices, not list",
     "output_type": "error",
     "traceback": [
      "\u001b[0;31m------------------------------------------------------------------\u001b[0m",
      "\u001b[0;31mTypeError\u001b[0m                        Traceback (most recent call last)",
      "\u001b[0;32m<ipython-input-91-020e910fd2e8>\u001b[0m in \u001b[0;36m<module>\u001b[0;34m\u001b[0m\n\u001b[1;32m      1\u001b[0m \u001b[0;32mfrom\u001b[0m \u001b[0mtabulate\u001b[0m \u001b[0;32mimport\u001b[0m \u001b[0mtabulate\u001b[0m\u001b[0;34m\u001b[0m\u001b[0;34m\u001b[0m\u001b[0m\n\u001b[0;32m----> 2\u001b[0;31m \u001b[0mprint\u001b[0m\u001b[0;34m(\u001b[0m\u001b[0mtabulate\u001b[0m\u001b[0;34m(\u001b[0m\u001b[0mtab\u001b[0m\u001b[0;34m.\u001b[0m\u001b[0mdata\u001b[0m\u001b[0;34m[\u001b[0m\u001b[0;34m[\u001b[0m\u001b[0mi\u001b[0m \u001b[0;32mfor\u001b[0m \u001b[0mi\u001b[0m \u001b[0;32min\u001b[0m \u001b[0;34m[\u001b[0m\u001b[0;36m2\u001b[0m\u001b[0;34m]\u001b[0m\u001b[0;34m]\u001b[0m\u001b[0;34m]\u001b[0m\u001b[0;34m,\u001b[0m \u001b[0mheaders\u001b[0m\u001b[0;34m=\u001b[0m\u001b[0mcols\u001b[0m\u001b[0;34m)\u001b[0m\u001b[0;34m)\u001b[0m\u001b[0;34m\u001b[0m\u001b[0;34m\u001b[0m\u001b[0m\n\u001b[0m",
      "\u001b[0;31mTypeError\u001b[0m: list indices must be integers or slices, not list"
     ]
    }
   ],
   "source": [
    "from tabulate import tabulate\n",
    "print(tabulate(tab.data[[i for i in [2]]], headers=cols))"
   ]
  },
  {
   "cell_type": "code",
   "execution_count": 29,
   "metadata": {},
   "outputs": [
    {
     "name": "stdout",
     "output_type": "stream",
     "text": [
      "Collecting tabulate\n",
      "  Downloading tabulate-0.8.7-py3-none-any.whl (24 kB)\n",
      "Installing collected packages: tabulate\n",
      "Successfully installed tabulate-0.8.7\n"
     ]
    }
   ],
   "source": [
    "!pip3 install tabulate"
   ]
  },
  {
   "cell_type": "code",
   "execution_count": 213,
   "metadata": {},
   "outputs": [
    {
     "data": {
      "text/plain": [
       "[0, 1, 2]"
      ]
     },
     "execution_count": 213,
     "metadata": {},
     "output_type": "execute_result"
    }
   ],
   "source": [
    "list(range(3))"
   ]
  },
  {
   "cell_type": "code",
   "execution_count": 231,
   "metadata": {},
   "outputs": [
    {
     "data": {
      "text/plain": [
       "[str, str, str]"
      ]
     },
     "execution_count": 231,
     "metadata": {},
     "output_type": "execute_result"
    }
   ],
   "source": [
    "[str for _ in range(3)]"
   ]
  },
  {
   "cell_type": "code",
   "execution_count": null,
   "metadata": {},
   "outputs": [],
   "source": []
  }
 ],
 "metadata": {
  "kernelspec": {
   "display_name": "Python 3",
   "language": "python",
   "name": "python3"
  },
  "language_info": {
   "codemirror_mode": {
    "name": "ipython",
    "version": 3
   },
   "file_extension": ".py",
   "mimetype": "text/x-python",
   "name": "python",
   "nbconvert_exporter": "python",
   "pygments_lexer": "ipython3",
   "version": "3.8.2"
  }
 },
 "nbformat": 4,
 "nbformat_minor": 4
}
